{
 "cells": [
  {
   "cell_type": "code",
   "execution_count": null,
   "id": "daa1d5bb",
   "metadata": {},
   "outputs": [],
   "source": [
    "from keras.preprocessing.image import img_to_array\n",
    "from sklearn.utils import shuffle\n",
    "from sklearn.preprocessing import LabelBinarizer\n",
    "from sklearn.model_selection import train_test_split\n",
    "from keras.preprocessing.image import ImageDataGenerator \n",
    "from sklearn.metrics import classification_report, confusion_matrix\n",
    "from keras.preprocessing.image import ImageDataGenerator, array_to_img, img_to_array, load_img  "
   ]
  },
  {
   "cell_type": "code",
   "execution_count": null,
   "id": "ad34a89c",
   "metadata": {},
   "outputs": [],
   "source": [
    "train_data_dir = 'Downloads/archive/kag2'"
   ]
  }
 ],
 "metadata": {
  "kernelspec": {
   "display_name": "tfkernel",
   "language": "python",
   "name": "tfkernel"
  },
  "language_info": {
   "codemirror_mode": {
    "name": "ipython",
    "version": 3
   },
   "file_extension": ".py",
   "mimetype": "text/x-python",
   "name": "python",
   "nbconvert_exporter": "python",
   "pygments_lexer": "ipython3",
   "version": "3.12.5"
  }
 },
 "nbformat": 4,
 "nbformat_minor": 5
}
